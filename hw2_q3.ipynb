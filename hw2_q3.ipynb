{
 "cells": [
  {
   "cell_type": "code",
   "execution_count": 1,
   "metadata": {},
   "outputs": [],
   "source": [
    "import numpy as np\n",
    "import matplotlib.pyplot as plt\n",
    "from scipy.stats import norm\n",
    "%matplotlib inline\n",
    "plt.rcParams[\"figure.figsize\"] = (10, 6) #set default figure size"
   ]
  },
  {
   "cell_type": "code",
   "execution_count": 2,
   "metadata": {},
   "outputs": [
    {
     "data": {
      "text/plain": [
       "array([[6.500e+02, 2.323e+02, 2.343e+02],\n",
       "       [6.750e+02, 2.075e+02, 2.095e+02],\n",
       "       [7.000e+02, 1.829e+02, 1.849e+02],\n",
       "       [7.250e+02, 1.585e+02, 1.605e+02],\n",
       "       [7.500e+02, 1.344e+02, 1.364e+02],\n",
       "       [7.600e+02, 1.249e+02, 1.269e+02],\n",
       "       [7.650e+02, 1.201e+02, 1.221e+02],\n",
       "       [7.750e+02, 1.108e+02, 1.128e+02],\n",
       "       [8.000e+02, 8.790e+01, 8.990e+01],\n",
       "       [8.100e+02, 7.900e+01, 8.100e+01],\n",
       "       [8.250e+02, 6.620e+01, 6.820e+01],\n",
       "       [8.500e+02, 4.650e+01, 4.850e+01],\n",
       "       [8.700e+02, 3.270e+01, 3.470e+01],\n",
       "       [8.750e+02, 3.000e+01, 3.110e+01],\n",
       "       [8.800e+02, 2.700e+01, 2.870e+01],\n",
       "       [8.900e+02, 2.150e+01, 2.330e+01],\n",
       "       [9.000e+02, 1.700e+01, 1.840e+01],\n",
       "       [9.100e+02, 1.280e+01, 1.440e+01],\n",
       "       [9.200e+02, 9.800e+00, 1.080e+01],\n",
       "       [9.250e+02, 8.500e+00, 9.400e+00],\n",
       "       [9.300e+02, 7.200e+00, 8.200e+00],\n",
       "       [9.400e+02, 5.100e+00, 6.100e+00],\n",
       "       [9.500e+02, 3.700e+00, 4.400e+00],\n",
       "       [9.750e+02, 1.600e+00, 2.000e+00],\n",
       "       [9.950e+02, 7.000e-01, 1.000e+00],\n",
       "       [1.025e+03, 3.000e-01, 4.000e-01]])"
      ]
     },
     "execution_count": 2,
     "metadata": {},
     "output_type": "execute_result"
    }
   ],
   "source": [
    "# load data\n",
    "cboe_quotes = np.loadtxt('CBOEQuotes.txt')\n",
    "cboe_quotes"
   ]
  },
  {
   "cell_type": "code",
   "execution_count": 3,
   "metadata": {},
   "outputs": [],
   "source": [
    "# parameters\n",
    "T = 30/365 # 30 days to maturity\n",
    "S0 = 884.25 # current stock price\n",
    "q = 0.0176 # dividend yield\n",
    "r = 0.0125 # risk-free rate\n",
    "K = cboe_quotes[:,0] # strike prices\n",
    "bid = cboe_quotes[:,1] # bid prices\n",
    "ask = cboe_quotes[:,2] # ask prices\n",
    "market = (bid + ask)/2 # mean of bid and ask prices"
   ]
  },
  {
   "attachments": {},
   "cell_type": "markdown",
   "metadata": {},
   "source": [
    "## Bisection Method"
   ]
  },
  {
   "cell_type": "code",
   "execution_count": 4,
   "metadata": {},
   "outputs": [],
   "source": [
    "def Black_Scholes_Call(S, K, r, q, T, sigma):\n",
    "    \"\"\"Black-Scholes call option price.\n",
    "    \n",
    "    Args:\n",
    "        S (float): spot price\n",
    "        K (float): strike price\n",
    "        r (float): risk-free interest rate\n",
    "        q (float): dividend yield\n",
    "        T (float): time to maturity\n",
    "        sigma (float): volatility\n",
    "\n",
    "    Returns:\n",
    "        float: call option price\n",
    "    \"\"\"\n",
    "    if sigma == 0:\n",
    "        return max(S * np.exp(- q * T) - K * np.exp(- r * T), 0)\n",
    "    else:\n",
    "        d1 = (np.log(S/K) + (r - q + sigma ** 2 / 2) * T) / (sigma * np.sqrt(T))\n",
    "        d2 = d1 - sigma * np.sqrt(T)\n",
    "        return S * np.exp(- q * T) * norm.cdf(d1) - K * np.exp(- r * T) * norm.cdf(d2)"
   ]
  },
  {
   "cell_type": "code",
   "execution_count": 5,
   "metadata": {},
   "outputs": [],
   "source": [
    "def implied_volatility_bisection(S, K, r, q, T, C, tol=1e-6, max_iter=1000):\n",
    "    \"\"\"Implied volatility using bisection method.\n",
    "\n",
    "    Args:\n",
    "        S (float): spot price\n",
    "        K (float): strike price\n",
    "        r (float): risk-free interest rate\n",
    "        q (float): dividend yield\n",
    "        T (float): time to maturity\n",
    "        C (float): call option price\n",
    "        tol (float, optional): tolerance. Defaults to 1e-6.\n",
    "        max_iter (int, optional): maximum number of iterations. Defaults to 1000.\n",
    "\n",
    "    Returns:\n",
    "        _type_: approximate implied volatility\n",
    "    \"\"\"\n",
    "    if C < S * np.exp(- q * T) - K * np.exp(- r * T):\n",
    "        print(\"Option price $\" + str(C) + \" violates the arbitrage bound.\")\n",
    "        return np.nan\n",
    "    \n",
    "    lower = 0\n",
    "    upper = 1\n",
    "    while Black_Scholes_Call(S, K, r, q, T, upper) - C < 0:\n",
    "        upper *= 2\n",
    "    guess = (lower + upper) / 2\n",
    "    \n",
    "    while upper - lower > tol and max_iter > 0:\n",
    "        diff = Black_Scholes_Call(S, K, r, q, T, guess) - C\n",
    "        if diff < 0:\n",
    "            lower = guess\n",
    "        else:\n",
    "            upper = guess\n",
    "        guess = (lower + upper) / 2\n",
    "        max_iter -= 1\n",
    "    return guess"
   ]
  },
  {
   "cell_type": "code",
   "execution_count": 6,
   "metadata": {},
   "outputs": [
    {
     "name": "stdout",
     "output_type": "stream",
     "text": [
      "Option price $232.3 violates the arbitrage bound.\n",
      "Option price $207.5 violates the arbitrage bound.\n",
      "Option price $182.9 violates the arbitrage bound.\n",
      "Option price $158.5 violates the arbitrage bound.\n",
      "Option price $233.3 violates the arbitrage bound.\n",
      "Option price $208.5 violates the arbitrage bound.\n",
      " \n",
      "Implied Volatility using Bisection Method:\n",
      "[[       nan 0.5046258         nan]\n",
      " [       nan 0.46623468        nan]\n",
      " [       nan 0.43761778 0.33935022]\n",
      " [       nan 0.41029119 0.35418081]\n",
      " [0.29337454 0.38361406 0.34674215]\n",
      " [0.30126905 0.37372255 0.34213114]\n",
      " [0.29936171 0.36651659 0.33675146]\n",
      " [0.30273294 0.35829592 0.33274221]\n",
      " [0.29391813 0.33256769 0.31397581]\n",
      " [0.28782797 0.32195616 0.30536699]\n",
      " [0.27958632 0.30827475 0.29416513]\n",
      " [0.26429701 0.28714037 0.27577639]\n",
      " [0.2511878  0.27161455 0.26140928]\n",
      " [0.25202417 0.26308203 0.25755453]\n",
      " [0.24829435 0.26520681 0.25675154]\n",
      " [0.24117804 0.25903463 0.25010729]\n",
      " [0.23756075 0.2517724  0.24467325]\n",
      " [0.23021173 0.24731684 0.23879194]\n",
      " [0.22888041 0.24047518 0.23470259]\n",
      " [0.22805548 0.23903418 0.23357439]\n",
      " [0.22547483 0.2384181  0.23199892]\n",
      " [0.22145033 0.23637152 0.22901773]\n",
      " [0.22129107 0.2336297  0.22756243]\n",
      " [0.22287607 0.23444319 0.22882318]\n",
      " [0.22043562 0.23495436 0.22807455]\n",
      " [0.23351908 0.24315882 0.23856688]]\n"
     ]
    }
   ],
   "source": [
    "iv_bid_bisection = np.array([implied_volatility_bisection(S0, K[i], r, q, T, bid[i]) for i in range(len(K))])\n",
    "iv_ask_bisection = np.array([implied_volatility_bisection(S0, K[i], r, q, T, ask[i]) for i in range(len(K))])\n",
    "iv_market_bisection = np.array([implied_volatility_bisection(S0, K[i], r, q, T, market[i]) for i in range(len(K))])\n",
    "iv_bisection = np.stack((iv_bid_bisection, iv_ask_bisection, iv_market_bisection), axis=1)\n",
    "\n",
    "print(\" \")\n",
    "print(\"Implied Volatility using Bisection Method:\")\n",
    "print(iv_bisection)"
   ]
  },
  {
   "attachments": {},
   "cell_type": "markdown",
   "metadata": {},
   "source": [
    "## Newton Method"
   ]
  },
  {
   "cell_type": "code",
   "execution_count": 7,
   "metadata": {},
   "outputs": [],
   "source": [
    "def vega(S, K, r, q, T, sigma):\n",
    "    \"\"\"Vega of a call option.\n",
    "    \n",
    "    Args:\n",
    "        S (float): spot price\n",
    "        K (float): strike price\n",
    "        r (float): risk-free interest rate\n",
    "        q (float): dividend yield\n",
    "        T (float): time to maturity\n",
    "        sigma (float): volatility\n",
    "\n",
    "    Returns:\n",
    "        float: vega\n",
    "    \"\"\"\n",
    "    if sigma == 0:\n",
    "        return 0\n",
    "    else:\n",
    "        d1 = (np.log(S/K) + (r - q + sigma ** 2 / 2) * T) / (sigma * np.sqrt(T))\n",
    "        return S * np.exp(- q * T) * norm.pdf(d1) * np.sqrt(T)"
   ]
  },
  {
   "cell_type": "code",
   "execution_count": 8,
   "metadata": {},
   "outputs": [],
   "source": [
    "def implied_volatility_newton(S, K, r, q, T, C, sigma_guess=0.5, tol=1e-6, max_iter=1000):\n",
    "    \"\"\"Implied volatility using Newton's method.\n",
    "\n",
    "    Args:\n",
    "        S (float): spot price\n",
    "        K (float): strike price\n",
    "        r (float): risk-free interest rate\n",
    "        q (float): dividend yield\n",
    "        T (float): time to maturity\n",
    "        C (float): call option price\n",
    "        sigma_guess (float): initial guess of volatility\n",
    "        tol (float): tolerance. Defaults to 1e-6.\n",
    "        max_iter (int): maximum number of iterations. Defaults to 1000.\n",
    "\n",
    "    Returns:\n",
    "        float: approximate implied volatility\n",
    "    \"\"\"\n",
    "    if C < S * np.exp(- q * T) - K * np.exp(- r * T):\n",
    "        print(\"Option price $\" + str(C) + \" violates the arbitrage bound.\")\n",
    "        return np.nan\n",
    "    \n",
    "    sigma = sigma_guess\n",
    "    while max_iter > 0:\n",
    "        diff = Black_Scholes_Call(S, K, r, q, T, sigma) - C\n",
    "        if abs(diff) < tol:\n",
    "            break\n",
    "        sigma -= diff / vega(S, K, r, q, T, sigma)\n",
    "        max_iter -= 1\n",
    "    return sigma"
   ]
  },
  {
   "cell_type": "code",
   "execution_count": 9,
   "metadata": {},
   "outputs": [
    {
     "name": "stdout",
     "output_type": "stream",
     "text": [
      "Option price $232.3 violates the arbitrage bound.\n",
      "Option price $207.5 violates the arbitrage bound.\n",
      "Option price $182.9 violates the arbitrage bound.\n",
      "Option price $158.5 violates the arbitrage bound.\n",
      "Option price $233.3 violates the arbitrage bound.\n",
      "Option price $208.5 violates the arbitrage bound.\n",
      " \n",
      "Implied Volatility using Newton's Method:\n",
      "[[       nan 0.50462541        nan]\n",
      " [       nan 0.46623491        nan]\n",
      " [       nan 0.43761761 0.33935068]\n",
      " [       nan 0.41029135 0.35418082]\n",
      " [0.29337411 0.38361417 0.34674248]\n",
      " [0.30126863 0.37372226 0.34213076]\n",
      " [0.29936161 0.36651695 0.33675189]\n",
      " [0.3027326  0.3582963  0.33274255]\n",
      " [0.29391836 0.3325675  0.31397606]\n",
      " [0.28782754 0.32195602 0.30536718]\n",
      " [0.2795865  0.30827514 0.29416469]\n",
      " [0.2642974  0.28714062 0.27577656]\n",
      " [0.25118741 0.27161425 0.26140946]\n",
      " [0.25202431 0.2630822  0.25755428]\n",
      " [0.24829476 0.2652071  0.25675124]\n",
      " [0.24117779 0.25903427 0.2501073 ]\n",
      " [0.2375612  0.25177233 0.24467349]\n",
      " [0.23021128 0.24731676 0.2387916 ]\n",
      " [0.22887994 0.24047509 0.23470282]\n",
      " [0.22805567 0.23903428 0.23357467]\n",
      " [0.2254748  0.23841832 0.23199931]\n",
      " [0.22145013 0.23637132 0.22901759]\n",
      " [0.22129117 0.23362972 0.22756273]\n",
      " [0.22287583 0.23444336 0.22882322]\n",
      " [0.22043579 0.23495458 0.22807465]\n",
      " [0.23351864 0.24315843 0.23856693]]\n"
     ]
    }
   ],
   "source": [
    "iv_bid_newton = np.array([implied_volatility_newton(S0, K[i], r, q, T, bid[i]) for i in range(len(K))])\n",
    "iv_ask_newton = np.array([implied_volatility_newton(S0, K[i], r, q, T, ask[i]) for i in range(len(K))])\n",
    "iv_market_newton = np.array([implied_volatility_newton(S0, K[i], r, q, T, market[i]) for i in range(len(K))])\n",
    "iv_newton = np.stack((iv_bid_newton, iv_ask_newton, iv_market_newton), axis=1)\n",
    "\n",
    "print(\" \")\n",
    "print(\"Implied Volatility using Newton's Method:\")\n",
    "print(iv_newton)"
   ]
  },
  {
   "cell_type": "code",
   "execution_count": 10,
   "metadata": {},
   "outputs": [
    {
     "data": {
      "image/png": "[encoded data removed]",
      "text/plain": [
       "<Figure size 1000x600 with 1 Axes>"
      ]
     },
     "metadata": {},
     "output_type": "display_data"
    }
   ],
   "source": [
    "# Plot implied volatility\n",
    "fig, ax = plt.subplots()\n",
    "ax.plot(K, iv_ask_newton, 'b--', label='Implied Volatility')\n",
    "ax.scatter(K, iv_ask_newton, c='g')\n",
    "ax.set_xlabel('Strike Price')\n",
    "ax.set_ylabel('Implied Volatility')\n",
    "plt.show()"
   ]
  },
  {
   "cell_type": "code",
   "execution_count": null,
   "metadata": {},
   "outputs": [],
   "source": []
  }
 ],
 "metadata": {
  "kernelspec": {
   "display_name": "DerPricing",
   "language": "python",
   "name": "python3"
  },
  "language_info": {
   "codemirror_mode": {
    "name": "ipython",
    "version": 3
   },
   "file_extension": ".py",
   "mimetype": "text/x-python",
   "name": "python",
   "nbconvert_exporter": "python",
   "pygments_lexer": "ipython3",
   "version": "3.11.0"
  },
  "orig_nbformat": 4,
  "vscode": {
   "interpreter": {
    "hash": "f330cbe8c3c47023151e56700d9b6df6f9af67fdb32ff85f9f4855d23f06d8ee"
   }
  }
 },
 "nbformat": 4,
 "nbformat_minor": 2
}
