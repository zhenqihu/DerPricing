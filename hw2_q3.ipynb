{
 "cells": [
  {
   "cell_type": "code",
   "execution_count": 1,
   "metadata": {},
   "outputs": [],
   "source": [
    "import numpy as np\n",
    "import matplotlib.pyplot as plt\n",
    "from scipy.stats import norm\n",
    "%matplotlib inline\n",
    "plt.rcParams[\"figure.figsize\"] = (10, 6) #set default figure size"
   ]
  },
  {
   "cell_type": "code",
   "execution_count": 7,
   "metadata": {},
   "outputs": [
    {
     "data": {
      "text/plain": [
       "array([[6.500e+02, 2.323e+02, 2.343e+02],\n",
       "       [6.750e+02, 2.075e+02, 2.095e+02],\n",
       "       [7.000e+02, 1.829e+02, 1.849e+02],\n",
       "       [7.250e+02, 1.585e+02, 1.605e+02],\n",
       "       [7.500e+02, 1.344e+02, 1.364e+02],\n",
       "       [7.600e+02, 1.249e+02, 1.269e+02],\n",
       "       [7.650e+02, 1.201e+02, 1.221e+02],\n",
       "       [7.750e+02, 1.108e+02, 1.128e+02],\n",
       "       [8.000e+02, 8.790e+01, 8.990e+01],\n",
       "       [8.100e+02, 7.900e+01, 8.100e+01],\n",
       "       [8.250e+02, 6.620e+01, 6.820e+01],\n",
       "       [8.500e+02, 4.650e+01, 4.850e+01],\n",
       "       [8.700e+02, 3.270e+01, 3.470e+01],\n",
       "       [8.750e+02, 3.000e+01, 3.110e+01],\n",
       "       [8.800e+02, 2.700e+01, 2.870e+01],\n",
       "       [8.900e+02, 2.150e+01, 2.330e+01],\n",
       "       [9.000e+02, 1.700e+01, 1.840e+01],\n",
       "       [9.100e+02, 1.280e+01, 1.440e+01],\n",
       "       [9.200e+02, 9.800e+00, 1.080e+01],\n",
       "       [9.250e+02, 8.500e+00, 9.400e+00],\n",
       "       [9.300e+02, 7.200e+00, 8.200e+00],\n",
       "       [9.400e+02, 5.100e+00, 6.100e+00],\n",
       "       [9.500e+02, 3.700e+00, 4.400e+00],\n",
       "       [9.750e+02, 1.600e+00, 2.000e+00],\n",
       "       [9.950e+02, 7.000e-01, 1.000e+00],\n",
       "       [1.025e+03, 3.000e-01, 4.000e-01]])"
      ]
     },
     "execution_count": 7,
     "metadata": {},
     "output_type": "execute_result"
    }
   ],
   "source": [
    "cboe_quotes = np.loadtxt('CBOEQuotes.txt')\n",
    "cboe_quotes"
   ]
  },
  {
   "cell_type": "code",
   "execution_count": 10,
   "metadata": {},
   "outputs": [],
   "source": [
    "T = 30/365 # 30 days to maturity\n",
    "S0 = 884.25 # current stock price\n",
    "q = 0.0176 # dividend yield\n",
    "r = 0.0125 # risk-free rate\n",
    "K = cboe_quotes[:,0] # strike prices\n",
    "bid = cboe_quotes[:,1] # bid prices\n",
    "ask = cboe_quotes[:,2] # ask prices\n",
    "mean = (bid + ask)/2 # mean of bid and ask prices"
   ]
  },
  {
   "cell_type": "code",
   "execution_count": null,
   "metadata": {},
   "outputs": [],
   "source": []
  }
 ],
 "metadata": {
  "kernelspec": {
   "display_name": "DerPricing",
   "language": "python",
   "name": "python3"
  },
  "language_info": {
   "codemirror_mode": {
    "name": "ipython",
    "version": 3
   },
   "file_extension": ".py",
   "mimetype": "text/x-python",
   "name": "python",
   "nbconvert_exporter": "python",
   "pygments_lexer": "ipython3",
   "version": "3.11.0"
  },
  "orig_nbformat": 4,
  "vscode": {
   "interpreter": {
    "hash": "f330cbe8c3c47023151e56700d9b6df6f9af67fdb32ff85f9f4855d23f06d8ee"
   }
  }
 },
 "nbformat": 4,
 "nbformat_minor": 2
}
