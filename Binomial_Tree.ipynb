{
 "cells": [
  {
   "cell_type": "code",
   "execution_count": 1,
   "metadata": {},
   "outputs": [],
   "source": [
    "import numpy as np"
   ]
  },
  {
   "cell_type": "code",
   "execution_count": 2,
   "metadata": {},
   "outputs": [],
   "source": [
    "class BinomialTree:\n",
    "    \n",
    "    def __init__(self, S0, T, vol, N, r, c, u=None):\n",
    "        self.S0 = S0 # initial stock price\n",
    "        self.T = T # time to maturity\n",
    "        self.N = N # number of periods\n",
    "        self.dt = T / N # time increment\n",
    "        self.vol = vol # volatility\n",
    "        self.r = r # risk-free rate\n",
    "        self.c = c # dividend yield\n",
    "        if u:\n",
    "            self.u = u # up factor\n",
    "        else:\n",
    "            self.u = np.exp(self.vol * np.sqrt(self.T / self.N))\n",
    "        self.d = 1 / self.u # down factor\n",
    "        self.q = (np.exp((self.r - self.c) * self.T / self.N) - self.d) / (self.u - self.d) # risk-neutral probability\n",
    "    \n",
    "    def stock_price(self, t, i):\n",
    "        assert 0<= t <= self.N, 't must be between 0 and N'\n",
    "        assert 0<= i <= t, 'i must be between 0 and t'\n",
    "        return self.S0 * self.u ** (t - i) * self.d ** i\n",
    "    \n",
    "    def stock_tree(self):\n",
    "        return [[self.stock_price(t, i) for i in range(t + 1)] for t in range(self.N + 1)]\n",
    "    \n",
    "    def stock_tree_print(self):\n",
    "        print('Stock Price Tree')\n",
    "        print('----------------')\n",
    "        for t in range(self.N + 1):\n",
    "            print('t =', t, ':')\n",
    "            for i in range(t + 1):\n",
    "                print(\"{:.2f}\".format(self.stock_price(t, i)), end=' ')\n",
    "            print('\\n')\n",
    "    \n",
    "    def option_price(self, t, i, K, m, type_, class_):\n",
    "        assert type_ in ['call', 'put'], 'type_ must be either call or put'\n",
    "        assert class_ in ['european', 'american'], 'class_ must be either european or american'\n",
    "        assert 0<= m <= self.N, 'm must be between 0 and N'\n",
    "        assert 0<= t <= m, 't must be between 0 and m'\n",
    "        assert 0<= i <= t, 'i must be between 0 and t'\n",
    "        \n",
    "        if t == m:\n",
    "            if type_ == 'call':\n",
    "                return max(self.stock_price(t, i) - K, 0)\n",
    "            elif type_ == 'put':\n",
    "                return max(K - self.stock_price(t, i), 0)\n",
    "        else:\n",
    "            up = self.option_price(t + 1, i, K, m, type_, class_)\n",
    "            down = self.option_price(t + 1, i + 1, K, m, type_, class_)\n",
    "            discount_price = np.exp(-self.r * self.T / self.N) * (self.q * up + (1 - self.q) * down)\n",
    "            if class_ == 'american':\n",
    "                if type_ == 'call':\n",
    "                    return max(self.stock_price(t, i) - K, discount_price)\n",
    "                elif type_ == 'put':\n",
    "                    return max(K - self.stock_price(t, i), discount_price)\n",
    "            elif class_ == 'european':\n",
    "                return discount_price\n",
    "    \n",
    "    def option_tree(self, K, m, type_, class_):\n",
    "        return [[self.option_price(t, i, K, m, type_, class_) for i in range(t + 1)] for t in range(self.N + 1)]\n",
    "    \n",
    "    def option_tree_print(self, K, m, type_, class_):\n",
    "        print('Option Price Tree')\n",
    "        print('-----------------')\n",
    "        for t in range(m + 1):\n",
    "            print('t =', t, ':')\n",
    "            for i in range(t + 1):\n",
    "                print(\"{:.2f}\".format(self.option_price(t, i, K, m, type_, class_)), end=' ')\n",
    "            print('\\n')\n",
    "            \n",
    "    def early_exercise(self, K, m, type_, class_):\n",
    "        assert class_ == 'american', 'early exercise only applies to american options'\n",
    "        print('Early Exercise')\n",
    "        print('--------------')\n",
    "        for t in range(m):\n",
    "            print('t =', t, ':')\n",
    "            for i in range(t + 1):\n",
    "                up = self.option_price(t + 1, i, K, m, type_, class_)\n",
    "                down = self.option_price(t + 1, i + 1, K, m, type_, class_)\n",
    "                discount_price = np.exp(-self.r * self.T / self.N) * (self.q * up + (1 - self.q) * down)\n",
    "                if type_ == 'call':\n",
    "                    print(int(self.stock_price(t, i) - K > discount_price), end=' ')\n",
    "                elif type_ == 'put':\n",
    "                    print(int(K - self.stock_price(t, i) > discount_price), end=' ')\n",
    "            print('\\n')"
   ]
  },
  {
   "cell_type": "code",
   "execution_count": 20,
   "metadata": {},
   "outputs": [],
   "source": [
    "# Lattice Parameters\n",
    "S0 = 100 # initial stock price\n",
    "T = 0.25 # maturity\n",
    "vol = 0.3 # volatility\n",
    "N = 15 # number of time steps\n",
    "r = 0.02 # risk-free rate\n",
    "c = 0.01 # dividend yield\n",
    "\n",
    "# Option Parameters\n",
    "K = 110 # strike price\n",
    "m = 10 # maturity (in number of periods)\n",
    "type_ = 'call' # option type\n",
    "class_ = 'american' # option class"
   ]
  },
  {
   "cell_type": "code",
   "execution_count": 21,
   "metadata": {},
   "outputs": [],
   "source": [
    "test = BinomialTree(S0, T, vol, N, r, c)"
   ]
  },
  {
   "cell_type": "code",
   "execution_count": 28,
   "metadata": {},
   "outputs": [
    {
     "data": {
      "text/plain": [
       "1.0394896104013376"
      ]
     },
     "execution_count": 28,
     "metadata": {},
     "output_type": "execute_result"
    }
   ],
   "source": [
    "test.u"
   ]
  },
  {
   "cell_type": "code",
   "execution_count": 24,
   "metadata": {},
   "outputs": [
    {
     "name": "stdout",
     "output_type": "stream",
     "text": [
      "Stock Price Tree\n",
      "----------------\n",
      "t = 0 :\n",
      "100.00 \n",
      "\n",
      "t = 1 :\n",
      "103.95 96.20 \n",
      "\n",
      "t = 2 :\n",
      "108.05 100.00 92.55 \n",
      "\n",
      "t = 3 :\n",
      "112.32 103.95 96.20 89.03 \n",
      "\n",
      "t = 4 :\n",
      "116.76 108.05 100.00 92.55 85.65 \n",
      "\n",
      "t = 5 :\n",
      "121.37 112.32 103.95 96.20 89.03 82.39 \n",
      "\n",
      "t = 6 :\n",
      "126.16 116.76 108.05 100.00 92.55 85.65 79.26 \n",
      "\n",
      "t = 7 :\n",
      "131.14 121.37 112.32 103.95 96.20 89.03 82.39 76.25 \n",
      "\n",
      "t = 8 :\n",
      "136.32 126.16 116.76 108.05 100.00 92.55 85.65 79.26 73.36 \n",
      "\n",
      "t = 9 :\n",
      "141.70 131.14 121.37 112.32 103.95 96.20 89.03 82.39 76.25 70.57 \n",
      "\n",
      "t = 10 :\n",
      "147.30 136.32 126.16 116.76 108.05 100.00 92.55 85.65 79.26 73.36 67.89 \n",
      "\n",
      "t = 11 :\n",
      "153.12 141.70 131.14 121.37 112.32 103.95 96.20 89.03 82.39 76.25 70.57 65.31 \n",
      "\n",
      "t = 12 :\n",
      "159.16 147.30 136.32 126.16 116.76 108.05 100.00 92.55 85.65 79.26 73.36 67.89 62.83 \n",
      "\n",
      "t = 13 :\n",
      "165.45 153.12 141.70 131.14 121.37 112.32 103.95 96.20 89.03 82.39 76.25 70.57 65.31 60.44 \n",
      "\n",
      "t = 14 :\n",
      "171.98 159.16 147.30 136.32 126.16 116.76 108.05 100.00 92.55 85.65 79.26 73.36 67.89 62.83 58.15 \n",
      "\n",
      "t = 15 :\n",
      "178.77 165.45 153.12 141.70 131.14 121.37 112.32 103.95 96.20 89.03 82.39 76.25 70.57 65.31 60.44 55.94 \n",
      "\n"
     ]
    }
   ],
   "source": [
    "test.stock_tree_print()"
   ]
  },
  {
   "cell_type": "code",
   "execution_count": 25,
   "metadata": {},
   "outputs": [
    {
     "name": "stdout",
     "output_type": "stream",
     "text": [
      "Option Price Tree\n",
      "-----------------\n",
      "t = 0 :\n",
      "1.65 \n",
      "\n",
      "t = 1 :\n",
      "2.58 0.74 \n",
      "\n",
      "t = 2 :\n",
      "3.96 1.24 0.25 \n",
      "\n",
      "t = 3 :\n",
      "5.93 2.06 0.45 0.05 \n",
      "\n",
      "t = 4 :\n",
      "8.62 3.33 0.82 0.10 0.00 \n",
      "\n",
      "t = 5 :\n",
      "12.10 5.24 1.47 0.20 0.00 0.00 \n",
      "\n",
      "t = 6 :\n",
      "16.35 7.99 2.59 0.40 0.00 0.00 0.00 \n",
      "\n",
      "t = 7 :\n",
      "21.19 11.67 4.42 0.81 0.00 0.00 0.00 0.00 \n",
      "\n",
      "t = 8 :\n",
      "26.35 16.19 7.29 1.64 0.00 0.00 0.00 0.00 0.00 \n",
      "\n",
      "t = 9 :\n",
      "31.72 21.16 11.38 3.33 0.00 0.00 0.00 0.00 0.00 0.00 \n",
      "\n",
      "t = 10 :\n",
      "37.30 26.32 16.16 6.76 0.00 0.00 0.00 0.00 0.00 0.00 0.00 \n",
      "\n"
     ]
    }
   ],
   "source": [
    "test.option_tree_print(K, m, type_, class_)"
   ]
  },
  {
   "cell_type": "code",
   "execution_count": null,
   "metadata": {},
   "outputs": [],
   "source": []
  }
 ],
 "metadata": {
  "kernelspec": {
   "display_name": "derp",
   "language": "python",
   "name": "python3"
  },
  "language_info": {
   "codemirror_mode": {
    "name": "ipython",
    "version": 3
   },
   "file_extension": ".py",
   "mimetype": "text/x-python",
   "name": "python",
   "nbconvert_exporter": "python",
   "pygments_lexer": "ipython3",
   "version": "3.11.0"
  },
  "orig_nbformat": 4
 },
 "nbformat": 4,
 "nbformat_minor": 2
}
