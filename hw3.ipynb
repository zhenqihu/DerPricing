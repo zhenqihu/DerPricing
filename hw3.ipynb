{
 "cells": [
  {
   "cell_type": "code",
   "execution_count": 1,
   "metadata": {},
   "outputs": [],
   "source": [
    "import numpy as np\n",
    "import matplotlib.pyplot as plt\n",
    "%matplotlib inline\n",
    "plt.rcParams[\"figure.figsize\"] = (10, 6) #set default figure size\n",
    "rng = np.random.default_rng() # random generator"
   ]
  },
  {
   "attachments": {},
   "cell_type": "markdown",
   "metadata": {},
   "source": [
    "## 4.1"
   ]
  },
  {
   "cell_type": "code",
   "execution_count": 2,
   "metadata": {},
   "outputs": [],
   "source": [
    "S = 50 # initial stock price\n",
    "r = 0.05 # risk-free rate\n",
    "q = 0.02 # dividend yield\n",
    "T = 1 # maturity\n",
    "sigma1 = 0.2 # volatility 1\n",
    "sigma2 = 0.5 # volatility 2\n",
    "N = 500 # number of simulations"
   ]
  },
  {
   "cell_type": "code",
   "execution_count": 3,
   "metadata": {},
   "outputs": [
    {
     "name": "stdout",
     "output_type": "stream",
     "text": [
      "Mean of log(S_T):  3.8641608525979043\n",
      "Standard Deviation of log(S_T):  0.39531539093157164\n",
      "Fraction that lie more than two std below the mean: 0.034\n"
     ]
    }
   ],
   "source": [
    "z = rng.standard_normal(size=N)\n",
    "x = (rng.random(size=N) < 0.5).astype(int) # 0 or 1\n",
    "sigma = sigma1 * x + sigma2 * (1 - x) # volatility\n",
    "log_ST = np.log(S) + (r - q - 0.5 * sigma ** 2) * T + sigma * np.sqrt(T) * z\n",
    "\n",
    "print(\"Mean of log(S_T): \", np.mean(log_ST))\n",
    "print(\"Standard Deviation of log(S_T): \", np.std(log_ST))\n",
    "print(\"Fraction that lie more than two std below the mean:\", np.mean(log_ST < np.mean(log_ST) - 2 * np.std(log_ST)))"
   ]
  },
  {
   "attachments": {},
   "cell_type": "markdown",
   "metadata": {},
   "source": [
    "# 4.2"
   ]
  },
  {
   "cell_type": "code",
   "execution_count": 17,
   "metadata": {},
   "outputs": [],
   "source": [
    "def simulating_GARCH(S0, sigma0, r, q, dt, N, Theta, Kappa, Lambda):\n",
    "    sigma = np.zeros(N + 1)\n",
    "    sigma[0] = sigma0\n",
    "    S = np.zeros(N + 1)\n",
    "    S[0] = S0\n",
    "    for i in range(1, N + 1):\n",
    "        y = rng.standard_normal() * sigma[i - 1]\n",
    "        S[i] = S[i - 1] * np.exp((r - q - 0.5 * sigma[i - 1] ** 2) * dt + y * np.sqrt(dt))\n",
    "        sigma[i] = np.sqrt(Kappa * Theta + (1 - Kappa) * (1 - Lambda) * y ** 2 + (1 - Kappa) * Lambda * sigma[i - 1] ** 2)\n",
    "    return np.log(S[N])"
   ]
  },
  {
   "cell_type": "code",
   "execution_count": 18,
   "metadata": {},
   "outputs": [
    {
     "name": "stdout",
     "output_type": "stream",
     "text": [
      "Mean of log(S_T):  4.412800251910736\n",
      "Standard Deviation of log(S_T):  0.6485612261521952\n",
      "Fraction that lie more than two std below the mean: 0.028\n"
     ]
    }
   ],
   "source": [
    "results = np.zeros(500)\n",
    "for i in range(500):\n",
    "    results[i] = simulating_GARCH(S0=100, sigma0=0.3, \n",
    "                                  r=0.01, q=0.02, dt=0.01, N=100, \n",
    "                                  Theta=0.5, Kappa=0.2, Lambda=0.2)\n",
    "print(\"Mean of log(S_T): \", np.mean(results))\n",
    "print(\"Standard Deviation of log(S_T): \", np.std(results))\n",
    "print(\"Fraction that lie more than two std below the mean:\", np.mean(results < np.mean(results) - 2 * np.std(results)))"
   ]
  },
  {
   "attachments": {},
   "cell_type": "markdown",
   "metadata": {},
   "source": [
    "## 4.3"
   ]
  },
  {
   "cell_type": "code",
   "execution_count": 19,
   "metadata": {},
   "outputs": [],
   "source": [
    "def stochastic_volatility(S0, sigma0, r, q, dt, N, theta, kappa, gamma, rho):\n",
    "    z = rng.standard_normal(size=(N, 2))\n",
    "    dB_s = z[:, 0] * np.sqrt(dt)\n",
    "    dB_v = np.sqrt(dt) * (rho * z[:, 0] + np.sqrt(1 - rho ** 2) * z[:, 1])\n",
    "\n",
    "    v = np.zeros(N + 1)\n",
    "    v[0] = sigma0 ** 2\n",
    "    S = np.zeros(N + 1)\n",
    "    S[0] = S0\n",
    "    for i in range(N):\n",
    "        v[i + 1] = v[i] + kappa * (theta - v[i]) * dt + gamma * np.sqrt(v[i]) * dB_v[i]\n",
    "        S[i + 1] = S[i] * np.exp((r - q - 0.5 * v[i]) * dt + np.sqrt(v[i]) * dB_s[i])\n",
    "    return np.log(S[N])"
   ]
  },
  {
   "cell_type": "code",
   "execution_count": 20,
   "metadata": {},
   "outputs": [
    {
     "name": "stdout",
     "output_type": "stream",
     "text": [
      "Mean of log(S_T):  4.535432415153032\n",
      "Standard Deviation of log(S_T):  0.28959586920857106\n",
      "Fraction that lie more than two std below the mean: 0.026\n"
     ]
    }
   ],
   "source": [
    "results = np.zeros(500)\n",
    "for i in range(500):\n",
    "    results[i] = stochastic_volatility(S0=100, sigma0=0.3, \n",
    "                                       r=0.01, q=0.02, dt=1/100, N=100, \n",
    "                                       theta=0.09, kappa=0.01, gamma=0.01, rho=1)\n",
    "print(\"Mean of log(S_T): \", np.mean(results))\n",
    "print(\"Standard Deviation of log(S_T): \", np.std(results))\n",
    "print(\"Fraction that lie more than two std below the mean:\", np.mean(results < np.mean(results) - 2 * np.std(results)))"
   ]
  }
 ],
 "metadata": {
  "kernelspec": {
   "display_name": "derp",
   "language": "python",
   "name": "python3"
  },
  "language_info": {
   "codemirror_mode": {
    "name": "ipython",
    "version": 3
   },
   "file_extension": ".py",
   "mimetype": "text/x-python",
   "name": "python",
   "nbconvert_exporter": "python",
   "pygments_lexer": "ipython3",
   "version": "3.11.0"
  },
  "orig_nbformat": 4
 },
 "nbformat": 4,
 "nbformat_minor": 2
}
