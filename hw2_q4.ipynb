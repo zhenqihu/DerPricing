{
 "cells": [
  {
   "cell_type": "code",
   "execution_count": 1,
   "metadata": {},
   "outputs": [],
   "source": [
    "import numpy as np\n",
    "import matplotlib.pyplot as plt\n",
    "from scipy.stats import norm\n",
    "%matplotlib inline\n",
    "plt.rcParams[\"figure.figsize\"] = (10, 6) #set default figure size"
   ]
  },
  {
   "cell_type": "code",
   "execution_count": 2,
   "metadata": {},
   "outputs": [],
   "source": [
    "def Black_Scholes_Call(S, K, r, q, T, sigma):\n",
    "    \"\"\"Black-Scholes call option price.\n",
    "    \n",
    "    Args:\n",
    "        S (float): spot price\n",
    "        K (float): strike price\n",
    "        r (float): risk-free interest rate\n",
    "        q (float): dividend yield\n",
    "        T (float): time to maturity\n",
    "        sigma (float): volatility\n",
    "\n",
    "    Returns:\n",
    "        float: call option price\n",
    "    \"\"\"\n",
    "    if sigma == 0:\n",
    "        return max(S * np.exp(- q * T) - K * np.exp(- r * T), 0)\n",
    "    else:\n",
    "        d1 = (np.log(S/K) + (r - q + sigma ** 2 / 2) * T) / (sigma * np.sqrt(T))\n",
    "        d2 = d1 - sigma * np.sqrt(T)\n",
    "        return S * np.exp(- q * T) * norm.cdf(d1) - K * np.exp(- r * T) * norm.cdf(d2)"
   ]
  },
  {
   "cell_type": "code",
   "execution_count": 19,
   "metadata": {},
   "outputs": [],
   "source": [
    "def fair_expense_ratio(D, r, sigma, T, tol=1e-6, max_iter=1000000000):\n",
    "    lower = 0\n",
    "    upper = 1\n",
    "    while np.exp(- r * T) * D + np.exp(- upper * T) * D * Black_Scholes_Call(1, np.exp(upper * T), r, 0, sigma, T) - D > 0:\n",
    "        upper *= 2\n",
    "    guess = (lower + upper) / 2\n",
    "    \n",
    "    while upper - lower > tol and max_iter > 0:\n",
    "        diff = np.exp(- r * T) * D + np.exp(- guess * T) * D * Black_Scholes_Call(1, np.exp(guess * T), r, 0, sigma, T) - D\n",
    "        if diff < 0:\n",
    "            upper = guess\n",
    "        else:\n",
    "            lower = guess\n",
    "        guess = (lower + upper) / 2\n",
    "        max_iter -= 1\n",
    "    return guess"
   ]
  },
  {
   "cell_type": "code",
   "execution_count": 11,
   "metadata": {},
   "outputs": [],
   "source": [
    "# parameters\n",
    "D = 1\n",
    "r = 0.01\n",
    "sigma = 0.2\n",
    "T = 1"
   ]
  },
  {
   "cell_type": "code",
   "execution_count": 20,
   "metadata": {},
   "outputs": [
    {
     "data": {
      "text/plain": [
       "0.6584839820861816"
      ]
     },
     "execution_count": 20,
     "metadata": {},
     "output_type": "execute_result"
    }
   ],
   "source": [
    "fair_expense_ratio(D, r, sigma, T, tol=1e-6, max_iter=1000)"
   ]
  }
 ],
 "metadata": {
  "kernelspec": {
   "display_name": "DerPricing",
   "language": "python",
   "name": "python3"
  },
  "language_info": {
   "codemirror_mode": {
    "name": "ipython",
    "version": 3
   },
   "file_extension": ".py",
   "mimetype": "text/x-python",
   "name": "python",
   "nbconvert_exporter": "python",
   "pygments_lexer": "ipython3",
   "version": "3.11.0"
  },
  "orig_nbformat": 4,
  "vscode": {
   "interpreter": {
    "hash": "f330cbe8c3c47023151e56700d9b6df6f9af67fdb32ff85f9f4855d23f06d8ee"
   }
  }
 },
 "nbformat": 4,
 "nbformat_minor": 2
}
