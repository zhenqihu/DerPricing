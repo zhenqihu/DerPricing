{
 "cells": [
  {
   "cell_type": "code",
   "execution_count": 1,
   "metadata": {},
   "outputs": [],
   "source": [
    "import numpy as np\n",
    "import matplotlib.pyplot as plt\n",
    "from scipy.stats import kurtosis, skew, norm\n",
    "%matplotlib inline\n",
    "plt.rcParams[\"figure.figsize\"] = (10, 6) #set default figure size\n",
    "rng = np.random.default_rng() # random generator"
   ]
  },
  {
   "attachments": {},
   "cell_type": "markdown",
   "metadata": {},
   "source": [
    "## 4.1"
   ]
  },
  {
   "cell_type": "code",
   "execution_count": 2,
   "metadata": {},
   "outputs": [],
   "source": [
    "S0 = 50 # initial stock price\n",
    "r = 0.05 # risk-free rate\n",
    "q = 0.02 # dividend yield\n",
    "T = 1 # maturity\n",
    "sigma1 = 0.2 # volatility 1\n",
    "sigma2 = 0.5 # volatility 2\n",
    "N = 500 # number of simulations"
   ]
  },
  {
   "cell_type": "code",
   "execution_count": 3,
   "metadata": {},
   "outputs": [
    {
     "name": "stdout",
     "output_type": "stream",
     "text": [
      "Mean of log(S_T):  3.8676149686079544\n",
      "Standard Deviation of log(S_T):  0.3751367234006503\n",
      "Fraction that lie more than two std below the mean: 0.034\n"
     ]
    }
   ],
   "source": [
    "z = rng.standard_normal(size=N)\n",
    "x = (rng.random(size=N) < 0.5).astype(int) # 0 or 1\n",
    "sigma = sigma1 * x + sigma2 * (1 - x) # volatility\n",
    "log_ST = np.log(S0) + (r - q - 0.5 * sigma ** 2) * T + sigma * np.sqrt(T) * z\n",
    "\n",
    "print(\"Mean of log(S_T): \", np.mean(log_ST))\n",
    "print(\"Standard Deviation of log(S_T): \", np.std(log_ST))\n",
    "print(\"Fraction that lie more than two std below the mean:\", np.mean(log_ST < (np.mean(log_ST) - 2 * np.std(log_ST))))"
   ]
  },
  {
   "attachments": {},
   "cell_type": "markdown",
   "metadata": {},
   "source": [
    "## 4.2"
   ]
  },
  {
   "cell_type": "code",
   "execution_count": 4,
   "metadata": {},
   "outputs": [],
   "source": [
    "def simulating_GARCH(S0, sigma0, r, q, dt, N, _kappa, _lambda, _theta, M=500):\n",
    "    sigma = np.zeros((M, N + 1))\n",
    "    log_S = np.zeros((M, N + 1))\n",
    "    y = np.zeros((M, N + 1))\n",
    "    sigma[:, 0] = sigma0\n",
    "    log_S[:, 0] = np.log(S0)\n",
    "    y[:, 0] = rng.standard_normal(size=M) * sigma[:, 0]\n",
    "    for i in range(1, N + 1):\n",
    "        sigma[:, i] = np.sqrt(_kappa * _theta + (1 - _kappa) * (1 - _lambda) * y[:, i - 1] ** 2 + (1 - _kappa) * _lambda * sigma[:, i - 1] ** 2)\n",
    "        y[:, i] = rng.standard_normal(size=M) * sigma[:, i]\n",
    "        log_S[:, i] = log_S[:, i - 1] + (r - q - 0.5 * sigma[:, i] ** 2) * dt + y[:, i] * np.sqrt(dt)\n",
    "    return log_S[:, -1]"
   ]
  },
  {
   "cell_type": "code",
   "execution_count": 29,
   "metadata": {},
   "outputs": [
    {
     "name": "stdout",
     "output_type": "stream",
     "text": [
      "Mean of log(S_T):  4.594909658736306\n",
      "Standard Deviation of log(S_T):  0.30340120949983435\n",
      "Fraction that lie more than two std below the mean: 0.032\n"
     ]
    }
   ],
   "source": [
    "log_ST = simulating_GARCH(S0=100, sigma0=0.3, r=0.05, q=0.01, dt=0.01, N=100, _kappa=0.2, _lambda=0.2, _theta=0.09)\n",
    "print(\"Mean of log(S_T): \", np.mean(log_ST))\n",
    "print(\"Standard Deviation of log(S_T): \", np.std(log_ST))\n",
    "print(\"Fraction that lie more than two std below the mean:\", np.mean(log_ST < (np.mean(log_ST) - 2 * np.std(log_ST))))\n",
    "#print(\"Skewness of log(S_T): \", skew(log_ST))\n",
    "#print(\"Kurtosis of log(S_T): \", kurtosis(log_ST))"
   ]
  },
  {
   "attachments": {},
   "cell_type": "markdown",
   "metadata": {},
   "source": [
    "## 4.3"
   ]
  },
  {
   "cell_type": "code",
   "execution_count": 30,
   "metadata": {},
   "outputs": [],
   "source": [
    "def stochastic_volatility(S0, V0, r, q, dt, N, theta, kappa, gamma, rho, M=500):\n",
    "    log_S = np.zeros((M, N + 1))\n",
    "    log_S[:, 0] = np.log(S0)\n",
    "    V = np.zeros((M, N + 1))\n",
    "    V[:, 0] = V0\n",
    "    for i in range(1, N + 1):\n",
    "        Z1 = rng.standard_normal(size=M)\n",
    "        Z2 = rho * Z1 + np.sqrt(1 - rho ** 2) * rng.standard_normal(size=M)\n",
    "        log_S[:, i] = log_S[:, i - 1] + (r - q - 0.5 * V[:, i - 1]) * dt + np.sqrt(V[:, i - 1] * dt) * Z1\n",
    "        V[:, i] = V[:, i - 1] + kappa * (theta - V[:, i - 1]) * dt + gamma * np.sqrt(V[:, i - 1] * dt) * Z2\n",
    "    return  log_S[:, -1]"
   ]
  },
  {
   "cell_type": "code",
   "execution_count": 46,
   "metadata": {},
   "outputs": [
    {
     "name": "stdout",
     "output_type": "stream",
     "text": [
      "Mean of log(S_T):  4.580027935814651\n",
      "Standard Deviation of log(S_T):  0.28796754748478515\n",
      "Fraction that lie more than two std below the mean: 0.022\n"
     ]
    }
   ],
   "source": [
    "log_ST = stochastic_volatility(S0=100, V0=0.09, r=0.05, q=0.02, dt=0.01, N=100, theta=0.09, kappa=0.01, gamma=0.1, rho=0.1)\n",
    "print(\"Mean of log(S_T): \", np.mean(log_ST))\n",
    "print(\"Standard Deviation of log(S_T): \", np.std(log_ST))\n",
    "print(\"Fraction that lie more than two std below the mean:\", np.mean(log_ST < (np.mean(log_ST) - 2 * np.std(log_ST))))"
   ]
  },
  {
   "cell_type": "markdown",
   "metadata": {},
   "source": [
    "## 5.1"
   ]
  },
  {
   "cell_type": "code",
   "execution_count": 2,
   "metadata": {},
   "outputs": [],
   "source": [
    "def stock_tree(S0, sigma, T, N):\n",
    "    \"\"\"Stock price tree\n",
    "\n",
    "    Args:\n",
    "        S0 (float): initial stock price\n",
    "        sigma (float): volatility\n",
    "        T (float): time to maturity\n",
    "        N (int): number of steps\n",
    "\n",
    "    Returns:\n",
    "        numpy.ndarray: stock price tree\n",
    "    \"\"\"\n",
    "    dt = T / N # time step\n",
    "    u = np.exp(sigma * np.sqrt(dt)) # up factor (Cox-Ross-Rubinstein model)\n",
    "    d = 1 / u # down factor\n",
    "    S = np.zeros((N + 1, N + 1))\n",
    "    S[0, 0] = S0\n",
    "    for t in range(1, N + 1):\n",
    "        for i in range(t + 1):\n",
    "            S[i, t] = S0 * u ** (t - i) * d ** i # i down, t - i up\n",
    "    return S\n",
    "\n",
    "def euro_call_tree(S0, sigma, T, N, K, r, q=0):\n",
    "    \"\"\"European call option price tree\n",
    "\n",
    "    Args:\n",
    "        S0 (float): initial stock price\n",
    "        sigma (float): volatility\n",
    "        T (float): time to maturity\n",
    "        N (int): number of steps\n",
    "        K (float): strike price\n",
    "        r (float): risk-free rate\n",
    "        q (float, optional): dividend yields. Defaults to 0.\n",
    "\n",
    "    Returns:\n",
    "        numpy.ndarray: European call option price tree\n",
    "    \"\"\"\n",
    "    S = stock_tree(S0, sigma, T, N)\n",
    "    dt = T / N\n",
    "    u = np.exp(sigma * np.sqrt(dt))\n",
    "    d = 1 / u\n",
    "    p = (np.exp((r - q) * dt) - d) / (u - d) # risk-neutral probability\n",
    "    euro_call = np.zeros((N + 1, N + 1))\n",
    "    for i in range(N + 1):\n",
    "        euro_call[i, N] = max(S[i, N] - K, 0) # payoff at maturity\n",
    "    for t in range(N - 1, -1, -1):\n",
    "        for i in range(t + 1):\n",
    "            euro_call[i, t] = np.exp(-r * dt) * (p * euro_call[i, t + 1] + (1 - p) * euro_call[i + 1, t + 1]) # backward induction\n",
    "    return euro_call"
   ]
  },
  {
   "cell_type": "code",
   "execution_count": 3,
   "metadata": {},
   "outputs": [
    {
     "data": {
      "image/png": "[encoded data removed]",
      "text/plain": [
       "<Figure size 1000x600 with 1 Axes>"
      ]
     },
     "metadata": {},
     "output_type": "display_data"
    }
   ],
   "source": [
    "call_price = np.zeros(11)\n",
    "for n in range(10, 21):\n",
    "    call_price[n - 10] = euro_call_tree(S0=50, sigma=0.3, T=0.5, K=50, r=0.05, N=n)[0, 0]\n",
    "plt.plot(range(10, 21), call_price)\n",
    "plt.xlabel('Number of Periods')\n",
    "plt.ylabel('Call')\n",
    "plt.title('European Call Price')\n",
    "plt.show()"
   ]
  },
  {
   "cell_type": "markdown",
   "metadata": {},
   "source": [
    "## 5.2"
   ]
  },
  {
   "cell_type": "code",
   "execution_count": 5,
   "metadata": {},
   "outputs": [
    {
     "name": "stdout",
     "output_type": "stream",
     "text": [
      "Black-Scholes call price:  4.817438314224592\n"
     ]
    }
   ],
   "source": [
    "def Black_Scholes_Call(S, K, r, T, sigma, q=0):\n",
    "    \"\"\"Black-Scholes call option price\n",
    "\n",
    "    Args:\n",
    "        S (float): initial stock price\n",
    "        K (float): strike price\n",
    "        r (float): risk-free rate\n",
    "        T (float): time to maturity\n",
    "        sigma (float): volatility\n",
    "        q (float, optional): dividend yields. Defaults to 0.\n",
    "\n",
    "    Returns:\n",
    "        float: Black-Scholes (European) call option price\n",
    "    \"\"\"\n",
    "    if sigma == 0:\n",
    "        return max(S * np.exp(- q * T) - K * np.exp(- r * T), 0)\n",
    "    else:\n",
    "        d1 = (np.log(S/K) + (r - q + sigma ** 2 / 2) * T) / (sigma * np.sqrt(T))\n",
    "        d2 = d1 - sigma * np.sqrt(T)\n",
    "        return S * np.exp(- q * T) * norm.cdf(d1) - K * np.exp(- r * T) * norm.cdf(d2)\n",
    "    \n",
    "call_price_bs = Black_Scholes_Call(S=50, K=50, r=0.05, T=0.5, sigma=0.3)\n",
    "print(\"Black-Scholes call price: \", call_price_bs)"
   ]
  },
  {
   "cell_type": "code",
   "execution_count": 6,
   "metadata": {},
   "outputs": [
    {
     "name": "stdout",
     "output_type": "stream",
     "text": [
      "Number of Periods: 103\n"
     ]
    }
   ],
   "source": [
    "n = 10\n",
    "while True:\n",
    "    call_price_tree = euro_call_tree(S0=50, sigma=0.3, T=0.5, K=50, r=0.05, N=n)[0, 0]\n",
    "    if abs(call_price_bs - call_price_tree) < 0.01: # penny accuracy (0.01)\n",
    "        print('Number of Periods:', n)\n",
    "        break\n",
    "    n += 1"
   ]
  },
  {
   "cell_type": "markdown",
   "metadata": {},
   "source": [
    "## 5.3"
   ]
  },
  {
   "cell_type": "code",
   "execution_count": 10,
   "metadata": {},
   "outputs": [],
   "source": [
    "def euro_put_tree(S0, sigma, T, N, K, r, q=0):\n",
    "    \"\"\"European put option price tree\n",
    "\n",
    "    Args:\n",
    "        S0 (float): initial stock price\n",
    "        sigma (float): volatility\n",
    "        T (float): time to maturity\n",
    "        N (int): number of steps\n",
    "        K (float): strike price\n",
    "        r (float): risk-free rate\n",
    "        q (float, optional): dividend yields. Defaults to 0.\n",
    "\n",
    "    Returns:\n",
    "        numpy.ndarray: European put option price tree\n",
    "    \"\"\"\n",
    "    S = stock_tree(S0, sigma, T, N)\n",
    "    dt = T / N\n",
    "    u = np.exp(sigma * np.sqrt(dt))\n",
    "    d = 1 / u\n",
    "    p = (np.exp((r - q) * dt) - d) / (u - d) # risk-neutral probability\n",
    "    euro_put = np.zeros((N + 1, N + 1))\n",
    "    for i in range(N + 1):\n",
    "        euro_put[i, N] = max(K - S[i, N], 0)\n",
    "    for t in range(N - 1, -1, -1):\n",
    "        for i in range(t + 1):\n",
    "            euro_put[i, t] = np.exp(-r * dt) * (p * euro_put[i, t + 1] + (1 - p) * euro_put[i + 1, t + 1])\n",
    "    return euro_put\n",
    "\n",
    "def american_put_tree(S0, sigma, T, N, K, r, q=0):\n",
    "    \"\"\"American put option price tree\n",
    "\n",
    "    Args:\n",
    "        S0 (float): initial stock price\n",
    "        sigma (float): volatility\n",
    "        T (float): time to maturity\n",
    "        N (int): number of steps\n",
    "        K (float): strike price\n",
    "        r (float): risk-free rate\n",
    "        q (float, optional): dividend yields. Defaults to 0.\n",
    "\n",
    "    Returns:\n",
    "        numpy.ndarray: American put option price tree\n",
    "    \"\"\"\n",
    "    S = stock_tree(S0, sigma, T, N)\n",
    "    dt = T / N\n",
    "    u = np.exp(sigma * np.sqrt(dt))\n",
    "    d = 1 / u\n",
    "    p = (np.exp((r - q) * dt) - d) / (u - d) # risk-neutral probability\n",
    "    american_put = np.zeros((N + 1, N + 1))\n",
    "    for i in range(N + 1):\n",
    "        american_put[i, N] = max(K - S[i, N], 0) # payoff at maturity\n",
    "    for t in range(N - 1, -1, -1):\n",
    "        for i in range(t + 1):\n",
    "            american_put[i, t] = max(K - S[i, t], np.exp(-r * dt) * (p * american_put[i, t + 1] + (1 - p) * american_put[i + 1, t + 1])) # allowing early exercise\n",
    "    return american_put"
   ]
  },
  {
   "cell_type": "code",
   "execution_count": 12,
   "metadata": {},
   "outputs": [
    {
     "name": "stdout",
     "output_type": "stream",
     "text": [
      "The early exercise premium is 0.17521661071596029\n"
     ]
    }
   ],
   "source": [
    "early_exercise_premium = american_put_tree(S0=50, sigma=0.3, T=1, N=500, K=50, r=0.05, q=0.02)[0, 0] - euro_put_tree(S0=50, sigma=0.3, T=1, N=500, K=50, r=0.05, q=0.02)[0, 0]\n",
    "print('The early exercise premium is ' + str(early_exercise_premium))"
   ]
  },
  {
   "cell_type": "markdown",
   "metadata": {},
   "source": [
    "## 5.5"
   ]
  },
  {
   "cell_type": "code",
   "execution_count": 13,
   "metadata": {},
   "outputs": [],
   "source": [
    "def MC_Heston(S0, K, T, r, v0, kappa, theta, gamma, rho, N, M, q=0):\n",
    "    \"\"\"Monte Carlo simulation for Heston model\n",
    "\n",
    "    Args:\n",
    "        S0 (float): initial stock price\n",
    "        K (float): strike price\n",
    "        T (float): time to maturity\n",
    "        r (float): risk-free rate\n",
    "        v0 (float): initial variance\n",
    "        kappa (float): mean reversion speed\n",
    "        theta (float): mean reversion level\n",
    "        gamma (float): volatility of variance\n",
    "        rho (float): correlation between stock price and variance\n",
    "        N (int): number of steps\n",
    "        M (int): number of paths\n",
    "        q (float, optional): dividend yields. Defaults to 0.\n",
    "\n",
    "    Returns:\n",
    "        float: Heston call option price\n",
    "    \"\"\"\n",
    "    rng = np.random.default_rng() # random number generator\n",
    "    dt = T / N # time step\n",
    "    S = np.zeros((M, N + 1)) # stock price tree\n",
    "    v = np.zeros((M, N + 1)) # variance tree\n",
    "    S[:, 0] = S0\n",
    "    v[:, 0] = v0\n",
    "    for i in range(1, N + 1):\n",
    "        Z1 = rng.standard_normal(size=M)\n",
    "        Z2 = rho * Z1 + np.sqrt(1 - rho ** 2) * rng.standard_normal(size=M)\n",
    "        S[:, i] = S[:, i - 1] * np.exp((r - q - 0.5 * v[:, i - 1]) * dt + np.sqrt(v[:, i - 1] * dt) * Z1)\n",
    "        v[:, i] = v[:, i - 1] + kappa * (theta - v[:, i - 1]) * dt + gamma * np.sqrt(v[:, i - 1] * dt) * Z2\n",
    "    call_price = np.exp(-r * T) * np.mean(np.maximum(S[:, -1] - K, 0))\n",
    "    call_price_var = np.exp(-r * T) * np.var(np.maximum(S[:, -1] - K, 0)) / M\n",
    "    return call_price, call_price_var\n",
    "    "
   ]
  },
  {
   "cell_type": "code",
   "execution_count": 26,
   "metadata": {},
   "outputs": [
    {
     "name": "stdout",
     "output_type": "stream",
     "text": [
      "The call option price is 8.398299407089558 with standard error 0.44569381501140315\n"
     ]
    }
   ],
   "source": [
    "mean, var = MC_Heston(S0=50, K=50, T=1, r=0.05, v0=0.04, kappa=1, theta=0.4, gamma=0.2, rho=-0.5, N=100, M=1000)\n",
    "print('The call option price is ' + str(mean) + ' with standard error ' + str(np.sqrt(var)))"
   ]
  }
 ],
 "metadata": {
  "kernelspec": {
   "display_name": "derp",
   "language": "python",
   "name": "python3"
  },
  "language_info": {
   "codemirror_mode": {
    "name": "ipython",
    "version": 3
   },
   "file_extension": ".py",
   "mimetype": "text/x-python",
   "name": "python",
   "nbconvert_exporter": "python",
   "pygments_lexer": "ipython3",
   "version": "3.11.0"
  },
  "orig_nbformat": 4
 },
 "nbformat": 4,
 "nbformat_minor": 2
}
